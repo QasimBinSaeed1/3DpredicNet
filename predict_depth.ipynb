{
 "cells": [
  {
   "cell_type": "code",
   "execution_count": 49,
   "metadata": {},
   "outputs": [],
   "source": [
    "import argparse\n",
    "import logging\n",
    "import os\n",
    "import glob\n",
    "\n",
    "import numpy as np\n",
    "import torch\n",
    "import torch.nn.functional as F\n",
    "from PIL import Image\n",
    "from torchvision import transforms\n",
    "\n",
    "from utils.data_loading import BasicDataset\n",
    "from unet import NET\n",
    "from utils.utils import plot_img_and_mask\n",
    "import matplotlib.pyplot as plt"
   ]
  },
  {
   "cell_type": "code",
   "execution_count": 50,
   "metadata": {},
   "outputs": [],
   "source": [
    "output_depths = np.zeros((180, 3, 400, 400))"
   ]
  },
  {
   "cell_type": "code",
   "execution_count": 51,
   "metadata": {},
   "outputs": [],
   "source": [
    "def predict_img(net,\n",
    "                full_img,\n",
    "                device,\n",
    "                scale_factor=1,\n",
    "                index=0\n",
    "                ):\n",
    "    net.eval()\n",
    "    img = torch.from_numpy(BasicDataset.preprocess(None, full_img, scale_factor, is_mask=False))\n",
    "    img = img.unsqueeze(0)\n",
    "    img = img.to(device=device, dtype=torch.float32)\n",
    "\n",
    "    with torch.no_grad():\n",
    "        output = net(img).cpu()\n",
    "        output = F.interpolate(output, (full_img.size[1], full_img.size[0]), mode='bilinear')\n",
    "        output_depths[index] = output.squeeze(0).numpy()\n",
    "\n",
    "    return output.squeeze(0).numpy()"
   ]
  },
  {
   "cell_type": "code",
   "execution_count": 52,
   "metadata": {},
   "outputs": [],
   "source": [
    "def get_output_filenames(args):\n",
    "    def _generate_name(fn):\n",
    "        return f'{os.path.splitext(fn)[0]}_OUT.png'\n",
    "\n",
    "    return args.output or list(map(_generate_name, args.input))"
   ]
  },
  {
   "cell_type": "code",
   "execution_count": 53,
   "metadata": {},
   "outputs": [],
   "source": [
    "def mask_to_image(mask: np.ndarray):\n",
    "    # if isinstance(mask_values[0], list):\n",
    "    mask = mask.transpose(1, 2, 0)\n",
    "    # return Image.fromarray((mask*255).astype(np.uint8))\n",
    "    return mask"
   ]
  },
  {
   "cell_type": "code",
   "execution_count": 54,
   "metadata": {},
   "outputs": [],
   "source": [
    "class Args:\n",
    "    def __init__(self, **kwargs):\n",
    "        for key, value in kwargs.items():\n",
    "            setattr(self, key, value)\n",
    "\n",
    "args = Args(**{\n",
    "    \"model\": \"checkpoints/checkpoint_epoch20.pth\",\n",
    "    \"input_dir\": \"./data/pothole600/test/rgb/\",\n",
    "    \"output\": \"./predict/outdepths/\",\n",
    "    \"viz\": True,\n",
    "    \"no_save\": False,\n",
    "    \"mask_threshold\": 0.5,\n",
    "    \"scale\": 1,\n",
    "    \"bilinear\": False\n",
    "})\n",
    "logging.basicConfig(level=logging.INFO, format='%(levelname)s: %(message)s')\n",
    "\n",
    "in_files = glob.glob(args.input_dir + \"/*.png\")\n",
    "out_files = [f.replace(args.input_dir, args.output) for f in in_files]"
   ]
  },
  {
   "cell_type": "code",
   "execution_count": 55,
   "metadata": {},
   "outputs": [
    {
     "name": "stderr",
     "output_type": "stream",
     "text": [
      "INFO: Loading model checkpoints/checkpoint_epoch20.pth\n",
      "INFO: Using device cuda\n"
     ]
    }
   ],
   "source": [
    "device = torch.device('cuda' if torch.cuda.is_available() else 'cpu')\n",
    "logging.info(f'Loading model {args.model}')\n",
    "logging.info(f'Using device {device}')"
   ]
  },
  {
   "cell_type": "code",
   "execution_count": 56,
   "metadata": {},
   "outputs": [
    {
     "name": "stderr",
     "output_type": "stream",
     "text": [
      "INFO: Model loaded!\n"
     ]
    }
   ],
   "source": [
    "# net = UNet(n_channels=3, n_classes=2, bilinear=args.bilinear)\n",
    "net = NET(classes=3)\n",
    "net.to(device=device)\n",
    "# state_dict = torch.load(args.model, map_location=device)\n",
    "# mask_values = state_dict.pop('mask_values')\n",
    "net.load_state_dict(torch.load(args.model, map_location=device))\n",
    "\n",
    "logging.info('Model loaded!')"
   ]
  },
  {
   "cell_type": "code",
   "execution_count": 57,
   "metadata": {},
   "outputs": [],
   "source": [
    "# create output dir if not exists\n",
    "if not os.path.exists(args.output):\n",
    "    os.makedirs(args.output)"
   ]
  },
  {
   "cell_type": "code",
   "execution_count": 58,
   "metadata": {},
   "outputs": [],
   "source": [
    "\n",
    "for i, filename in enumerate(in_files):\n",
    "    # logging.info(f'Predicting image {filename} ...')\n",
    "    img = Image.open(filename)\n",
    "\n",
    "    mask = predict_img(net=net,\n",
    "                        full_img=img,\n",
    "                        scale_factor=args.scale,\n",
    "                        device=device,\n",
    "                        index=i\n",
    "                       )"
   ]
  },
  {
   "cell_type": "code",
   "execution_count": 59,
   "metadata": {},
   "outputs": [],
   "source": [
    "np.min(output_depths[0, 0, :, :])\n",
    "\n",
    "# N, C, H, W ---> N, H, W, C\n",
    "output_depths = output_depths.transpose(0, 2, 3, 1)"
   ]
  },
  {
   "cell_type": "code",
   "execution_count": 66,
   "metadata": {},
   "outputs": [
    {
     "data": {
      "text/plain": [
       "(-0.5, 399.5, 399.5, -0.5)"
      ]
     },
     "execution_count": 66,
     "metadata": {},
     "output_type": "execute_result"
    },
    {
     "data": {
      "image/png": "[encoded data removed]",
      "text/plain": [
       "<Figure size 360x360 with 1 Axes>"
      ]
     },
     "metadata": {
      "needs_background": "light"
     },
     "output_type": "display_data"
    }
   ],
   "source": [
    "# plotting\n",
    "fig = plt.figure(figsize=(5, 5))\n",
    "plt.imshow(output_depths[5])\n",
    "plt.axis('off')"
   ]
  },
  {
   "cell_type": "code",
   "execution_count": null,
   "metadata": {},
   "outputs": [],
   "source": []
  },
  {
   "cell_type": "code",
   "execution_count": null,
   "metadata": {},
   "outputs": [],
   "source": []
  }
 ],
 "metadata": {
  "kernelspec": {
   "display_name": "Python 3.6.9 64-bit",
   "language": "python",
   "name": "python3"
  },
  "language_info": {
   "codemirror_mode": {
    "name": "ipython",
    "version": 3
   },
   "file_extension": ".py",
   "mimetype": "text/x-python",
   "name": "python",
   "nbconvert_exporter": "python",
   "pygments_lexer": "ipython3",
   "version": "3.6.9"
  },
  "vscode": {
   "interpreter": {
    "hash": "31f2aee4e71d21fbe5cf8b01ff0e069b9275f58929596ceb00d14d90e3e16cd6"
   }
  }
 },
 "nbformat": 4,
 "nbformat_minor": 4
}
